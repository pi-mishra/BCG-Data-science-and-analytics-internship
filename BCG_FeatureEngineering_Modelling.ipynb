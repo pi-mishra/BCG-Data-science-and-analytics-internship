{
  "nbformat": 4,
  "nbformat_minor": 0,
  "metadata": {
    "colab": {
      "provenance": [],
      "mount_file_id": "1LX4E7GiG2pd4odH5NlpdTFGek6UcJeLg",
      "authorship_tag": "ABX9TyMsoaUHffI52p7X0gAHqNJ9",
      "include_colab_link": true
    },
    "kernelspec": {
      "name": "python3",
      "display_name": "Python 3"
    },
    "language_info": {
      "name": "python"
    }
  },
  "cells": [
    {
      "cell_type": "markdown",
      "metadata": {
        "id": "view-in-github",
        "colab_type": "text"
      },
      "source": [
        "<a href=\"https://colab.research.google.com/github/pi-mishra/BCG-Data-science-and-analytics-internship/blob/main/BCG_FeatureEngineering_Modelling.ipynb\" target=\"_parent\"><img src=\"https://colab.research.google.com/assets/colab-badge.svg\" alt=\"Open In Colab\"/></a>"
      ]
    },
    {
      "cell_type": "code",
      "execution_count": null,
      "metadata": {
        "id": "0M1HV0Ka6Kqw"
      },
      "outputs": [],
      "source": [
        "#importing packages\n",
        "\n",
        "\n",
        "import numpy as np\n",
        "import pandas as pd\n",
        "from numpy import math\n",
        "\n",
        "from sklearn.preprocessing import MinMaxScaler\n",
        "from sklearn.model_selection import train_test_split\n",
        "from sklearn.linear_model import LinearRegression\n",
        "from sklearn.metrics import r2_score\n",
        "from sklearn.metrics import mean_squared_error\n",
        "from sklearn.linear_model import Ridge, Lasso\n",
        "from sklearn.tree import DecisionTreeRegressor\n",
        "from sklearn.model_selection import cross_val_score\n",
        "\n",
        "import matplotlib.pyplot as plt\n",
        "import seaborn as sns\n",
        "import warnings\n",
        "warnings.filterwarnings(\"ignore\")\n"
      ]
    },
    {
      "cell_type": "code",
      "source": [
        "df = pd.read_csv('/content/drive/MyDrive/BCG_data/clean_data_after_eda.csv')"
      ],
      "metadata": {
        "id": "ab25-d5e68d6"
      },
      "execution_count": null,
      "outputs": []
    },
    {
      "cell_type": "code",
      "source": [
        "df.columns"
      ],
      "metadata": {
        "colab": {
          "base_uri": "https://localhost:8080/"
        },
        "id": "_ljsYKA07lfh",
        "outputId": "e09edd2f-b1c5-4aa7-8e18-bbc6e6f08288"
      },
      "execution_count": null,
      "outputs": [
        {
          "output_type": "execute_result",
          "data": {
            "text/plain": [
              "Index(['Unnamed: 0', 'id', 'channel_sales', 'cons_12m', 'cons_gas_12m',\n",
              "       'cons_last_month', 'date_activ', 'date_end', 'date_modif_prod',\n",
              "       'date_renewal', 'forecast_cons_12m', 'forecast_cons_year',\n",
              "       'forecast_discount_energy', 'forecast_meter_rent_12m',\n",
              "       'forecast_price_energy_off_peak', 'forecast_price_energy_peak',\n",
              "       'forecast_price_pow_off_peak', 'has_gas', 'imp_cons',\n",
              "       'margin_gross_pow_ele', 'margin_net_pow_ele', 'nb_prod_act',\n",
              "       'net_margin', 'num_years_antig', 'origin_up', 'pow_max',\n",
              "       'avg_variable_price', 'avg_fixed_price', 'churn'],\n",
              "      dtype='object')"
            ]
          },
          "metadata": {},
          "execution_count": 5
        }
      ]
    },
    {
      "cell_type": "code",
      "source": [
        "df = df.drop('Unnamed: 0', axis=1)"
      ],
      "metadata": {
        "id": "flK6kpf59NGi"
      },
      "execution_count": null,
      "outputs": []
    },
    {
      "cell_type": "code",
      "source": [
        "df.columns"
      ],
      "metadata": {
        "id": "5Uthx3MB9r8B",
        "outputId": "3f0f95c4-5032-4257-9834-f162028d3d1e",
        "colab": {
          "base_uri": "https://localhost:8080/"
        }
      },
      "execution_count": null,
      "outputs": [
        {
          "output_type": "execute_result",
          "data": {
            "text/plain": [
              "Index(['id', 'channel_sales', 'cons_12m', 'cons_gas_12m', 'cons_last_month',\n",
              "       'date_activ', 'date_end', 'date_modif_prod', 'date_renewal',\n",
              "       'forecast_cons_12m', 'forecast_cons_year', 'forecast_discount_energy',\n",
              "       'forecast_meter_rent_12m', 'forecast_price_energy_off_peak',\n",
              "       'forecast_price_energy_peak', 'forecast_price_pow_off_peak', 'has_gas',\n",
              "       'imp_cons', 'margin_gross_pow_ele', 'margin_net_pow_ele', 'nb_prod_act',\n",
              "       'net_margin', 'num_years_antig', 'origin_up', 'pow_max',\n",
              "       'avg_variable_price', 'avg_fixed_price', 'churn'],\n",
              "      dtype='object')"
            ]
          },
          "metadata": {},
          "execution_count": 7
        }
      ]
    },
    {
      "cell_type": "code",
      "source": [],
      "metadata": {
        "id": "MuaeAEXk9t25"
      },
      "execution_count": null,
      "outputs": []
    }
  ]
}